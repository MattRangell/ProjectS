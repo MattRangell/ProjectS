{
 "cells": [
  {
   "cell_type": "markdown",
   "id": "ee606492-b35c-46c2-accd-cccdd1e53504",
   "metadata": {},
   "source": [
    "    Descrição do projeto: \n",
    "•  Analisem cuidadosamente as características visuais das imagens fornecidas. Os aluno devem \n",
    "utilizar as técnicas aprendidas em sala para: \n",
    "-[x] Gravar um video de si mesmo lendo o texto no arquivo anexo \n",
    "◦  Inverter a imagem, no eixo, a cada 20 segundo \n",
    "◦  Diminiur o som, de forma gradativa, a cada 30 segundos, de forma que os últimos 10 \n",
    "segundos fique em silêncio (sem som) \n",
    "◦  Após o primeiro minuto, 60 segundos, fazer um corte para o segundo 80  \n",
    "◦  Por fim, insira os 20 segundos cortados acima no fim do video \n",
    "•  Elaborem um plano detalhado descrevendo as etapas e técnicas que serão utilizadas para \n",
    "transformar a o video inicial no video final. Considerem os conceitos e técnicas discutidos em \n",
    "sala de aula. \n",
    "•  Caso prefira, não é necessário mostrar o seu rosto, deixando outra imagem de fundo. \n",
    "Entretanto, a voz deve ser a sua \n",
    " \n",
    "     Entrega do Trabalho: \n",
    "•  Trabalho individual. \n",
    "•  O prazo de entrega é de 3 semanas. \n",
    "•  Assim que concluírem, não deixem de fazer o upload dos códigos, videos (inicial/original e \n",
    "final) e demais documentos relacionados a esta tarefa. \n",
    "•  A entrega pontual e completa é fundamental, pois esta atividade será pontuada e contabilizada \n",
    "para a nota da NP2 (Nota de Prova 2). \n",
    "•  A entrega deve ser feita por meio de um notebook jupyter, o video original/inicial e o video \n",
    "final, demonstrando todos os passos e modificações e o resultado final (videos enviado). \n",
    "•  O código deve ser hospedado no site Github em um repositório público, entregas de código \n",
    "fora da plataforma não serão aceitos \n",
    "•  O vídeo final e inical devem ser hospedados em alguma plataforma, como youtube, onedrive, \n",
    "2 \n",
    " \n",
    "drive, etc. Sendo enviado apenas o link ao monito. Os links deve ser acessíveis de forma \n",
    "pública, sem precisar de acesso e capaz de reproduzir o download. \n",
    "•  Em caso de dúvidas, entrem em contato com o seu monitor! \n"
   ]
  },
  {
   "cell_type": "markdown",
   "id": "239a9938-0984-4840-a91e-f0890c132c4f",
   "metadata": {},
   "source": [
    "Importar bibliotecas:"
   ]
  },
  {
   "cell_type": "code",
   "execution_count": 11,
   "id": "d2b69014-2e9e-4d17-b4e9-6d0ef495b744",
   "metadata": {},
   "outputs": [],
   "source": [
    "import moviepy as mp\n",
    "import numpy as np"
   ]
  },
  {
   "cell_type": "markdown",
   "id": "3d197539-ec7f-4f4b-bdb7-aef61b20c970",
   "metadata": {},
   "source": [
    "### Importar o vídeo:"
   ]
  },
  {
   "cell_type": "code",
   "execution_count": 12,
   "id": "606425aa-5a8c-4323-85b0-1821968e41cf",
   "metadata": {},
   "outputs": [],
   "source": [
    "video = mp.VideoFileClip(\"projeto02.mp4\")"
   ]
  },
  {
   "cell_type": "markdown",
   "id": "f7a0a52c-c7c0-4f14-94d5-be598fedbed1",
   "metadata": {},
   "source": [
    "### Bloco 1: Inverter a imagem a cada 20 segundos"
   ]
  },
  {
   "cell_type": "code",
   "execution_count": 14,
   "id": "a6f63289-cf49-441a-aa14-cbcfafd0f6b8",
   "metadata": {},
   "outputs": [
    {
     "ename": "AttributeError",
     "evalue": "'VideoFileClip' object has no attribute 'fl_image'",
     "output_type": "error",
     "traceback": [
      "\u001b[0;31m---------------------------------------------------------------------------\u001b[0m",
      "\u001b[0;31mAttributeError\u001b[0m                            Traceback (most recent call last)",
      "\u001b[0;32m/tmp/ipykernel_29585/4088457500.py\u001b[0m in \u001b[0;36m<module>\u001b[0;34m\u001b[0m\n\u001b[1;32m      7\u001b[0m     \u001b[0;32mreturn\u001b[0m \u001b[0mclip\u001b[0m\u001b[0;34m.\u001b[0m\u001b[0mfl_image\u001b[0m\u001b[0;34m(\u001b[0m\u001b[0mprocess_frame\u001b[0m\u001b[0;34m,\u001b[0m \u001b[0mapply_to\u001b[0m\u001b[0;34m=\u001b[0m\u001b[0;34m\"mask\"\u001b[0m\u001b[0;34m)\u001b[0m\u001b[0;34m\u001b[0m\u001b[0;34m\u001b[0m\u001b[0m\n\u001b[1;32m      8\u001b[0m \u001b[0;31m# Aplicar a função ao vídeo\u001b[0m\u001b[0;34m\u001b[0m\u001b[0;34m\u001b[0m\u001b[0m\n\u001b[0;32m----> 9\u001b[0;31m \u001b[0mflipped_video\u001b[0m \u001b[0;34m=\u001b[0m \u001b[0mflip_video\u001b[0m\u001b[0;34m(\u001b[0m\u001b[0mvideo\u001b[0m\u001b[0;34m)\u001b[0m\u001b[0;34m\u001b[0m\u001b[0;34m\u001b[0m\u001b[0m\n\u001b[0m",
      "\u001b[0;32m/tmp/ipykernel_29585/4088457500.py\u001b[0m in \u001b[0;36mflip_video\u001b[0;34m(clip)\u001b[0m\n\u001b[1;32m      5\u001b[0m         \u001b[0;32melse\u001b[0m\u001b[0;34m:\u001b[0m\u001b[0;34m\u001b[0m\u001b[0;34m\u001b[0m\u001b[0m\n\u001b[1;32m      6\u001b[0m             \u001b[0;32mreturn\u001b[0m \u001b[0mframe\u001b[0m\u001b[0;34m\u001b[0m\u001b[0;34m\u001b[0m\u001b[0m\n\u001b[0;32m----> 7\u001b[0;31m     \u001b[0;32mreturn\u001b[0m \u001b[0mclip\u001b[0m\u001b[0;34m.\u001b[0m\u001b[0mfl_image\u001b[0m\u001b[0;34m(\u001b[0m\u001b[0mprocess_frame\u001b[0m\u001b[0;34m,\u001b[0m \u001b[0mapply_to\u001b[0m\u001b[0;34m=\u001b[0m\u001b[0;34m\"mask\"\u001b[0m\u001b[0;34m)\u001b[0m\u001b[0;34m\u001b[0m\u001b[0;34m\u001b[0m\u001b[0m\n\u001b[0m\u001b[1;32m      8\u001b[0m \u001b[0;31m# Aplicar a função ao vídeo\u001b[0m\u001b[0;34m\u001b[0m\u001b[0;34m\u001b[0m\u001b[0m\n\u001b[1;32m      9\u001b[0m \u001b[0mflipped_video\u001b[0m \u001b[0;34m=\u001b[0m \u001b[0mflip_video\u001b[0m\u001b[0;34m(\u001b[0m\u001b[0mvideo\u001b[0m\u001b[0;34m)\u001b[0m\u001b[0;34m\u001b[0m\u001b[0;34m\u001b[0m\u001b[0m\n",
      "\u001b[0;31mAttributeError\u001b[0m: 'VideoFileClip' object has no attribute 'fl_image'"
     ]
    }
   ],
   "source": [
    "def flip_video(clip): \n",
    "    def process_frame(frame, t): \n",
    "        if int(t // 20) % 2 == 1: \n",
    "            return np.fliplr(frame) # Inverter o frame \n",
    "        else: \n",
    "            return frame \n",
    "    return clip.fl_image(process_frame, apply_to=\"mask\") \n",
    "# Aplicar a função ao vídeo \n",
    "flipped_video = flip_video(video)"
   ]
  },
  {
   "cell_type": "markdown",
   "id": "ffb4654e-ccc5-41d1-a8fa-5a664d31c3e3",
   "metadata": {},
   "source": [
    "### Bloco 2: Diminuir o som gradativamente a cada 30 segundos"
   ]
  },
  {
   "cell_type": "code",
   "execution_count": 4,
   "id": "e3a05924-cddf-4b23-accc-6adc05836aaa",
   "metadata": {},
   "outputs": [
    {
     "ename": "NameError",
     "evalue": "name 'flipped_video' is not defined",
     "output_type": "error",
     "traceback": [
      "\u001b[0;31m---------------------------------------------------------------------------\u001b[0m",
      "\u001b[0;31mNameError\u001b[0m                                 Traceback (most recent call last)",
      "\u001b[0;32m/tmp/ipykernel_29585/2630420139.py\u001b[0m in \u001b[0;36m<module>\u001b[0;34m\u001b[0m\n\u001b[1;32m      8\u001b[0m \u001b[0;34m\u001b[0m\u001b[0m\n\u001b[1;32m      9\u001b[0m \u001b[0;31m# Aplicar a função ao vídeo\u001b[0m\u001b[0;34m\u001b[0m\u001b[0;34m\u001b[0m\u001b[0m\n\u001b[0;32m---> 10\u001b[0;31m \u001b[0mvideo_decreased_volume\u001b[0m \u001b[0;34m=\u001b[0m \u001b[0mdecrease_volume\u001b[0m\u001b[0;34m(\u001b[0m\u001b[0mflipped_video\u001b[0m\u001b[0;34m)\u001b[0m\u001b[0;34m\u001b[0m\u001b[0;34m\u001b[0m\u001b[0m\n\u001b[0m\u001b[1;32m     11\u001b[0m \u001b[0mvideo_decreased_volume\u001b[0m\u001b[0;34m.\u001b[0m\u001b[0mwrite_videofile\u001b[0m\u001b[0;34m(\u001b[0m\u001b[0;34m\"projeto02_decreased_volume.mp4\"\u001b[0m\u001b[0;34m)\u001b[0m\u001b[0;34m\u001b[0m\u001b[0;34m\u001b[0m\u001b[0m\n\u001b[1;32m     12\u001b[0m \u001b[0;31m### Bloco 3: Cortar o vídeo após 60 segundos até 80 segundos\u001b[0m\u001b[0;34m\u001b[0m\u001b[0;34m\u001b[0m\u001b[0m\n",
      "\u001b[0;31mNameError\u001b[0m: name 'flipped_video' is not defined"
     ]
    }
   ],
   "source": [
    "# Função para diminuir o som gradativamente\n",
    "def decrease_volume(clip):\n",
    "    def audio_fadeout(t):\n",
    "        if t >= clip.duration - 30:\n",
    "            return max(0, (clip.duration - t) / 10)\n",
    "        return 1\n",
    "    return clip.volumex(audio_fadeout)\n",
    "\n",
    "# Aplicar a função ao vídeo\n",
    "video_decreased_volume = decrease_volume(flipped_video)"
   ]
  },
  {
   "cell_type": "markdown",
   "id": "99bd5fd0-db5b-46ab-aae6-aad8c9934e10",
   "metadata": {},
   "source": [
    "### Bloco 3: Cortar o vídeo após 60 segundos até 80 segundos"
   ]
  },
  {
   "cell_type": "code",
   "execution_count": 5,
   "id": "db230cb9-60c1-405a-b001-0576be1ab4a0",
   "metadata": {},
   "outputs": [
    {
     "ename": "NameError",
     "evalue": "name 'mp' is not defined",
     "output_type": "error",
     "traceback": [
      "\u001b[0;31m---------------------------------------------------------------------------\u001b[0m",
      "\u001b[0;31mNameError\u001b[0m                                 Traceback (most recent call last)",
      "\u001b[0;32m/tmp/ipykernel_29585/810576004.py\u001b[0m in \u001b[0;36m<module>\u001b[0;34m\u001b[0m\n\u001b[1;32m      1\u001b[0m \u001b[0;31m# Carregar o vídeo com volume diminuído\u001b[0m\u001b[0;34m\u001b[0m\u001b[0;34m\u001b[0m\u001b[0m\n\u001b[0;32m----> 2\u001b[0;31m \u001b[0mvideo_decreased_volume\u001b[0m \u001b[0;34m=\u001b[0m \u001b[0mmp\u001b[0m\u001b[0;34m.\u001b[0m\u001b[0mVideoFileClip\u001b[0m\u001b[0;34m(\u001b[0m\u001b[0;34m\"projeto02_decreased_volume.mp4\"\u001b[0m\u001b[0;34m)\u001b[0m\u001b[0;34m\u001b[0m\u001b[0;34m\u001b[0m\u001b[0m\n\u001b[0m\u001b[1;32m      3\u001b[0m \u001b[0;34m\u001b[0m\u001b[0m\n\u001b[1;32m      4\u001b[0m \u001b[0;31m# Cortar o vídeo dos 60 segundos aos 80 segundos\u001b[0m\u001b[0;34m\u001b[0m\u001b[0;34m\u001b[0m\u001b[0m\n\u001b[1;32m      5\u001b[0m \u001b[0mvideo_cut_part\u001b[0m \u001b[0;34m=\u001b[0m \u001b[0mvideo_decreased_volume\u001b[0m\u001b[0;34m.\u001b[0m\u001b[0msubclip\u001b[0m\u001b[0;34m(\u001b[0m\u001b[0;36m60\u001b[0m\u001b[0;34m,\u001b[0m \u001b[0;36m80\u001b[0m\u001b[0;34m)\u001b[0m\u001b[0;34m\u001b[0m\u001b[0;34m\u001b[0m\u001b[0m\n",
      "\u001b[0;31mNameError\u001b[0m: name 'mp' is not defined"
     ]
    }
   ],
   "source": [
    "# Cortar o vídeo dos 60 segundos aos 80 segundos\n",
    "video_cut_part = video_decreased_volume.subclip(60, 80)\n",
    "video_remaining = video_decreased_volume.subclip(0, 60)"
   ]
  },
  {
   "cell_type": "markdown",
   "id": "c35cd4f6-b060-47e7-a36f-5668071436ad",
   "metadata": {},
   "source": [
    "### Bloco 4: Inserir os 20 segundos cortados no final do vídeo"
   ]
  },
  {
   "cell_type": "code",
   "execution_count": 8,
   "id": "fd261609-9735-41c5-91c1-81e284083814",
   "metadata": {},
   "outputs": [
    {
     "ename": "NameError",
     "evalue": "name 'mp' is not defined",
     "output_type": "error",
     "traceback": [
      "\u001b[0;31m---------------------------------------------------------------------------\u001b[0m",
      "\u001b[0;31mNameError\u001b[0m                                 Traceback (most recent call last)",
      "\u001b[0;32m/tmp/ipykernel_29585/2432332592.py\u001b[0m in \u001b[0;36m<module>\u001b[0;34m\u001b[0m\n\u001b[1;32m      1\u001b[0m \u001b[0;31m# Carregar as partes do vídeo\u001b[0m\u001b[0;34m\u001b[0m\u001b[0;34m\u001b[0m\u001b[0m\n\u001b[0;32m----> 2\u001b[0;31m \u001b[0mvideo_cut_part\u001b[0m \u001b[0;34m=\u001b[0m \u001b[0mmp\u001b[0m\u001b[0;34m.\u001b[0m\u001b[0mVideoFileClip\u001b[0m\u001b[0;34m(\u001b[0m\u001b[0;34m\"projeto02_cut_part.mp4\"\u001b[0m\u001b[0;34m)\u001b[0m\u001b[0;34m\u001b[0m\u001b[0;34m\u001b[0m\u001b[0m\n\u001b[0m\u001b[1;32m      3\u001b[0m \u001b[0mvideo_remaining\u001b[0m \u001b[0;34m=\u001b[0m \u001b[0mmp\u001b[0m\u001b[0;34m.\u001b[0m\u001b[0mVideoFileClip\u001b[0m\u001b[0;34m(\u001b[0m\u001b[0;34m\"projeto02_remaining.mp4\"\u001b[0m\u001b[0;34m)\u001b[0m\u001b[0;34m\u001b[0m\u001b[0;34m\u001b[0m\u001b[0m\n\u001b[1;32m      4\u001b[0m \u001b[0;34m\u001b[0m\u001b[0m\n\u001b[1;32m      5\u001b[0m \u001b[0;31m# Combinar as partes do vídeo\u001b[0m\u001b[0;34m\u001b[0m\u001b[0;34m\u001b[0m\u001b[0m\n",
      "\u001b[0;31mNameError\u001b[0m: name 'mp' is not defined"
     ]
    }
   ],
   "source": [
    "final_video = mp.concatenate_videoclips([video_remaining, video_cut_part])\n",
    "final_video.write_videofile(\"projeto02_final.mp4\")"
   ]
  }
 ],
 "metadata": {
  "kernelspec": {
   "display_name": "Python 3 (ipykernel)",
   "language": "python",
   "name": "python3"
  },
  "language_info": {
   "codemirror_mode": {
    "name": "ipython",
    "version": 3
   },
   "file_extension": ".py",
   "mimetype": "text/x-python",
   "name": "python",
   "nbconvert_exporter": "python",
   "pygments_lexer": "ipython3",
   "version": "3.10.12"
  }
 },
 "nbformat": 4,
 "nbformat_minor": 5
}
